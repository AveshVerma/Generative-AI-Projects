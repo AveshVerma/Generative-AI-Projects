{
 "cells": [
  {
   "cell_type": "markdown",
   "metadata": {},
   "source": [
    "# LangChain Basics Hands-on"
   ]
  },
  {
   "cell_type": "markdown",
   "metadata": {},
   "source": [
    "### Steps\n",
    "- Model Input/Output\n",
    "- Data Connectors\n",
    "- Chains\n",
    "- Memory\n",
    "- Agent -- To get data from 3rd party\n",
    "\n",
    "Topics\n",
    "1. Full Stack Application built by Langchain\n",
    "2. Prompting\n",
    "3. Chain of Prompts\n",
    "4. Tools, Initialization of Agent\n",
    "5. Custom Agent\n",
    "6. Token Limit Handling Strategies\n",
    "7. Deep Dive into Memory\n",
    "8. RAG System with Vector Databases\n",
    "9. LLM Application development Landscape\n",
    "10. LLM Application in Production\n",
    "11. Langserve\n",
    "12. Langsmith\n",
    "13. Text Splitting, Text Chunking\n",
    "14. LlamaIndex vs Langchain"
   ]
  },
  {
   "cell_type": "code",
   "execution_count": 1,
   "metadata": {},
   "outputs": [],
   "source": [
    "import langchain\n",
    "from dotenv import load_dotenv"
   ]
  },
  {
   "cell_type": "code",
   "execution_count": 2,
   "metadata": {},
   "outputs": [
    {
     "data": {
      "text/plain": [
       "True"
      ]
     },
     "execution_count": 2,
     "metadata": {},
     "output_type": "execute_result"
    }
   ],
   "source": [
    "load_dotenv() # Take Enviroment variables from .env"
   ]
  },
  {
   "cell_type": "code",
   "execution_count": 3,
   "metadata": {},
   "outputs": [],
   "source": [
    "import os\n",
    "GOOGLE_API_KEY=os.getenv(\"GOOGLE_API_KEY\")\n",
    "HUGGINGFACEHUB_API_TOKEN = os.getenv(\"HUGGINGFACE_TOKEN\")\n",
    "OPENAI_API_KEY = os.getenv(\"OPENAI_API_KEY\")\n"
   ]
  },
  {
   "cell_type": "markdown",
   "metadata": {},
   "source": [
    "### OpenAI"
   ]
  },
  {
   "cell_type": "code",
   "execution_count": 4,
   "metadata": {},
   "outputs": [],
   "source": [
    "import openai\n",
    "from langchain_openai import OpenAI"
   ]
  },
  {
   "cell_type": "code",
   "execution_count": 5,
   "metadata": {},
   "outputs": [],
   "source": [
    "llm = OpenAI()"
   ]
  },
  {
   "cell_type": "code",
   "execution_count": 6,
   "metadata": {},
   "outputs": [],
   "source": [
    "text = \"Can you tell me about the China?\""
   ]
  },
  {
   "cell_type": "code",
   "execution_count": 7,
   "metadata": {},
   "outputs": [
    {
     "name": "stdout",
     "output_type": "stream",
     "text": [
      "\n",
      "\n",
      "China, officially known as the People's Republic of China, is a country located in East Asia. It is the world's most populous country, with a population of over 1.4 billion people. It is also the third largest country by land area, spanning over 9.6 million square kilometers.\n",
      "\n",
      "The history of China can be traced back to over 5,000 years, with a series of dynasties ruling the country until the establishment of the Republic of China in 1912. In 1949, the Communist Party of China took control of the country and established the People's Republic of China.\n",
      "\n",
      "China is a socialist country with a single-party political system, and the government plays a significant role in the economy and society. In recent decades, China has undergone rapid economic growth, becoming the world's second-largest economy and a major player in global trade.\n",
      "\n",
      "The country is known for its rich cultural heritage, including its ancient architecture, art, literature, and philosophy. The Chinese language, Mandarin, is the most widely spoken language in the world.\n",
      "\n",
      "China has a diverse landscape, with mountains, plateaus, deserts, and coastlines, making it a popular tourist destination. It is also home to many famous landmarks, such as the Great Wall of\n"
     ]
    }
   ],
   "source": [
    "print(llm.invoke(text))"
   ]
  },
  {
   "cell_type": "markdown",
   "metadata": {},
   "source": [
    "### Hugging Face"
   ]
  },
  {
   "cell_type": "code",
   "execution_count": 14,
   "metadata": {},
   "outputs": [],
   "source": [
    "from langchain_community.llms import HuggingFaceEndpoint\n",
    "from langchain import HuggingFaceHub"
   ]
  },
  {
   "cell_type": "code",
   "execution_count": 13,
   "metadata": {},
   "outputs": [
    {
     "name": "stdout",
     "output_type": "stream",
     "text": [
      "Token has not been saved to git credential helper. Pass `add_to_git_credential=True` if you want to set the git credential as well.\n",
      "Token is valid (permission: read).\n",
      "Your token has been saved to /Users/aveshverma/.cache/huggingface/token\n",
      "Login successful\n"
     ]
    }
   ],
   "source": [
    "gemma_llm = HuggingFaceEndpoint(repo_id = \"google/gemma-7b\")"
   ]
  },
  {
   "cell_type": "code",
   "execution_count": 25,
   "metadata": {},
   "outputs": [
    {
     "name": "stdout",
     "output_type": "stream",
     "text": [
      ", New Delhi is a buzzing city of people, cars, bikes, buses, vendors, shops, temples, mosques and other things that would be difficult to describe. This capital city of India has its own unique charm and attraction for the tourists. From the UNESCO World Heritage site, Qutub Minar to the awesome Indian War Memorial, India Gate, to the rich Mughal architecture of Humayun’s Tomb and the modern architectures of the Parliament and Rashtrapati Bhavan, New Delhi is a city with a lot of things to see and do.\n",
      "\n",
      "<h2><strong>History of Delhi</strong></h2>\n",
      "\n",
      "Delhi has been known by several names in the past. The name Delhi is believed to be derived from Dilli or Dhillu, a king who ruled in the 6th century. Delhi is said to have been ruled by several dynasties in the past and has been known by several names such as Indraprastha, Lal Kot, Indrapat, Dhillikapuri, Yojakpuri, Mayapuri and many more. Delhi has seen its ups and downs and has been ruled by various foreign rulers like the Turks, Mongols, Mughals, British and the other Indian kingdoms.\n",
      "\n",
      "Delhi was declared as the capital of India by Lord Mountbatten and the city of New Delhi was designed by Lutyens. New Delhi is a planned city that was built keeping in mind the Mughal architecture of the past.\n",
      "\n",
      "<h2><strong>How to reach Delhi</strong></h2>\n",
      "\n",
      "Being the capital of India, Delhi is well connected by air, road and rail to most of the major cities in India as well as the major cities in the world.\n",
      "\n",
      "<h3><strong>Delhi by Air</strong></h3>\n",
      "\n",
      "The Indira Gandhi International Airport, New Delhi is one of the busiest airports in the world and is well connected with all the major cities in the world and all the major cities in India. There are flights available to and from all the major cities in India.\n",
      "\n",
      "<strong>Flights to Delhi from:</strong>\n",
      "\n",
      "* Mumbai to Delhi Flights\n",
      "* Bengaluru to Delhi Flights\n",
      "* Chennai to Delhi Flights\n",
      "* Hyderabad to Delhi Flights\n",
      "* Kolkata to Delhi Flights\n",
      "\n",
      "<h3><strong>Delhi by Road</strong></h3>\n",
      "\n",
      "Delhi is connected by road to all the major cities in India. There are buses and private taxis available from all the major cities in India.\n",
      "\n",
      "<h3><strong>Delhi by Rail</strong></h3>\n",
      "\n",
      "New Delhi Railway Station is the main station in Delhi that is well connected by rail to all the major cities in India.\n",
      "\n",
      "<h2><strong>Best time to visit Delhi</strong></h2>\n",
      "\n",
      "The best time\n"
     ]
    }
   ],
   "source": [
    "print(gemma_llm.invoke(\"Capital of India\"))"
   ]
  },
  {
   "cell_type": "code",
   "execution_count": 18,
   "metadata": {},
   "outputs": [],
   "source": [
    "llm2 = HuggingFaceHub(repo_id=\"google/flan-t5-large\")"
   ]
  },
  {
   "cell_type": "code",
   "execution_count": 22,
   "metadata": {},
   "outputs": [
    {
     "data": {
      "text/plain": [
       "'you are a slob'"
      ]
     },
     "execution_count": 22,
     "metadata": {},
     "output_type": "execute_result"
    }
   ],
   "source": [
    "llm2.invoke(\"How are you in today's time?\")"
   ]
  },
  {
   "cell_type": "markdown",
   "metadata": {},
   "source": [
    "### Gemini"
   ]
  },
  {
   "cell_type": "code",
   "execution_count": 27,
   "metadata": {},
   "outputs": [],
   "source": [
    "from langchain_google_genai import ChatGoogleGenerativeAI"
   ]
  },
  {
   "cell_type": "code",
   "execution_count": 28,
   "metadata": {},
   "outputs": [],
   "source": [
    "llm4=ChatGoogleGenerativeAI(model=\"gemini-pro\",google_api_key=GOOGLE_API_KEY)"
   ]
  },
  {
   "cell_type": "code",
   "execution_count": 31,
   "metadata": {},
   "outputs": [],
   "source": [
    "gemini_response = llm4.invoke(\"Who is Akshay Kumar?\").content"
   ]
  },
  {
   "cell_type": "code",
   "execution_count": 32,
   "metadata": {},
   "outputs": [
    {
     "name": "stdout",
     "output_type": "stream",
     "text": [
      "Akshay Kumar is an Indian actor, producer, martial artist, and television personality who works in Hindi films. He is one of the most popular and successful actors in Bollywood.\n",
      "\n",
      "**Early Life and Career:**\n",
      "\n",
      "* Born on September 9, 1967, in Amritsar, Punjab, India.\n",
      "* Trained in martial arts before entering the film industry.\n",
      "* Made his debut in the 1991 film \"Saugandh.\"\n",
      "\n",
      "**Major Film Roles:**\n",
      "\n",
      "* Rose to fame with the 1992 film \"Khiladi\" and its sequels.\n",
      "* Known for his action films, including \"Dhadkan\" (2000), \"Hera Pheri\" (2000), and \"Singh Is Kinng\" (2008).\n",
      "* Also starred in romantic comedies such as \"Dil To Pagal Hai\" (1997), \"Humko Deewana Kar Gaye\" (2006), and \"Housefull\" (2010).\n",
      "\n",
      "**Awards and Honors:**\n",
      "\n",
      "* Received the Padma Shri, India's fourth-highest civilian award, in 2009.\n",
      "* Won two National Film Awards for his performances in \"Rustom\" (2016) and \"Pad Man\" (2018).\n",
      "* Holds the record for most Filmfare Awards for Best Actor (Male) with three.\n",
      "\n",
      "**Personal Life:**\n",
      "\n",
      "* Married to actress Twinkle Khanna in 2001.\n",
      "* They have two children, a son and a daughter.\n",
      "\n",
      "**Social Activism:**\n",
      "\n",
      "* Known for his philanthropic work, particularly in the areas of healthcare and education.\n",
      "* Supports several charities and has launched his own initiatives, such as the \"Bharat Ke Veer\" fund for the families of Indian soldiers.\n",
      "\n",
      "**Current Projects:**\n",
      "\n",
      "* Continues to star in a variety of films, including action, comedy, and social dramas.\n",
      "* Has several upcoming projects, including \"Sooryavanshi\" (2021), \"Prithviraj\" (2022), and \"Bachchan Pandey\" (2022).\n"
     ]
    }
   ],
   "source": [
    "print(gemini_response)"
   ]
  },
  {
   "cell_type": "markdown",
   "metadata": {},
   "source": [
    "## RayStack - RAG"
   ]
  },
  {
   "cell_type": "code",
   "execution_count": null,
   "metadata": {},
   "outputs": [],
   "source": []
  }
 ],
 "metadata": {
  "kernelspec": {
   "display_name": "transformers",
   "language": "python",
   "name": "python3"
  },
  "language_info": {
   "codemirror_mode": {
    "name": "ipython",
    "version": 3
   },
   "file_extension": ".py",
   "mimetype": "text/x-python",
   "name": "python",
   "nbconvert_exporter": "python",
   "pygments_lexer": "ipython3",
   "version": "3.10.13"
  }
 },
 "nbformat": 4,
 "nbformat_minor": 2
}
